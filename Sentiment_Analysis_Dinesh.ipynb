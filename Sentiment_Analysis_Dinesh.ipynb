{
  "nbformat": 4,
  "nbformat_minor": 0,
  "metadata": {
    "colab": {
      "provenance": [],
      "authorship_tag": "ABX9TyPY4p7lZHOoiwHK/eJC78Cr",
      "include_colab_link": true
    },
    "kernelspec": {
      "name": "python3",
      "display_name": "Python 3"
    },
    "language_info": {
      "name": "python"
    }
  },
  "cells": [
    {
      "cell_type": "markdown",
      "metadata": {
        "id": "view-in-github",
        "colab_type": "text"
      },
      "source": [
        "<a href=\"https://colab.research.google.com/github/Dinesh-kumar-M-2002/Sentiment-Analysis/blob/main/Sentiment_Analysis_Dinesh.ipynb\" target=\"_parent\"><img src=\"https://colab.research.google.com/assets/colab-badge.svg\" alt=\"Open In Colab\"/></a>"
      ]
    },
    {
      "cell_type": "markdown",
      "source": [
        "                          # 1. CLEANING STEPS\n",
        "\n",
        "                          # 1.Create a text file and read the file\n",
        "                          # 2.Convert all the characters into lowercase\n",
        "                          # 3.Remove the punctuations      "
      ],
      "metadata": {
        "id": "yQIFexK3VJa4"
      }
    },
    {
      "cell_type": "code",
      "execution_count": 1,
      "metadata": {
        "id": "gWjsBJoOUs-d"
      },
      "outputs": [],
      "source": [
        "import string"
      ]
    },
    {
      "cell_type": "code",
      "source": [
        "punc=string.punctuation\n",
        "print(punc)"
      ],
      "metadata": {
        "colab": {
          "base_uri": "https://localhost:8080/"
        },
        "id": "uNYXZszPU4fN",
        "outputId": "098d399b-6e35-4f8f-e0ec-d276dd09d31b"
      },
      "execution_count": 2,
      "outputs": [
        {
          "output_type": "stream",
          "name": "stdout",
          "text": [
            "!\"#$%&'()*+,-./:;<=>?@[\\]^_`{|}~\n"
          ]
        }
      ]
    },
    {
      "cell_type": "code",
      "source": [
        "text=open('/content/read.txt',encoding='utf-8').read().lower() #Mention your file txt path"
      ],
      "metadata": {
        "id": "1u-V-nFDU6la"
      },
      "execution_count": 55,
      "outputs": []
    },
    {
      "cell_type": "code",
      "source": [
        "print(text)"
      ],
      "metadata": {
        "colab": {
          "base_uri": "https://localhost:8080/"
        },
        "id": "SFMwQvHjVaX1",
        "outputId": "6333bff7-5d81-4e08-a766-fcdc62499de9"
      },
      "execution_count": 56,
      "outputs": [
        {
          "output_type": "stream",
          "name": "stdout",
          "text": [
            "as early as i could remember myself, my memories have been colored with melancholy and sad feelings. yes, i admit it: i am a person who loves being sad. as a child, i loved gloomy fairy tales; as a teenager, i loved tragic novels and films, which made my parents worry a lot. i realized that i did not meet their expectations: in their ideal world, a happy person must irradiate joy all the time. in my view, this state of constant life enjoyment looked slightly idiotic. and i kept asking myself if sadness is really so bad.\n",
            "\n",
            "one of the points, which i have discovered, is that people very seldom differentiate between sadness and misery and mistake one feeling for the other, although they are very different in nature. misery can only be caused by some deeply traumatic experience; however, sadness in a natural middle between being extremely happy and feeling deep sorrow.\n",
            "\n",
            "another important issue is that sadness often accompanies the process of thinking, consideration, and evaluation. if, for example, you once watch the facial expression of a person who is writing something deep in thought, you will see that he/she looks sad.\n",
            "\n",
            "furthermore, sadness is absolutely natural: almost all our important events in life are colored with it. we feel it when we have to leave a place where we felt good, we experience it when we are happy because deep down we all know it will not last forever, when parents see their children getting married, they are happy, but at the same time they are sad, because their kids have grown up.\n",
            "\n",
            "so, sadness is positive. next time you wake up in the morning and realize you feel sad, do not get upset, it only means you are normal and experience the whole range of emotions.\n"
          ]
        }
      ]
    },
    {
      "cell_type": "code",
      "source": [
        "res=text.translate(str.maketrans(\"\",\"\",punc))\n",
        "print(res)"
      ],
      "metadata": {
        "colab": {
          "base_uri": "https://localhost:8080/"
        },
        "id": "zvEJhnJpVdYl",
        "outputId": "e1a69f28-9220-422a-9ef0-c3b0e132bfa5"
      },
      "execution_count": 57,
      "outputs": [
        {
          "output_type": "stream",
          "name": "stdout",
          "text": [
            "as early as i could remember myself my memories have been colored with melancholy and sad feelings yes i admit it i am a person who loves being sad as a child i loved gloomy fairy tales as a teenager i loved tragic novels and films which made my parents worry a lot i realized that i did not meet their expectations in their ideal world a happy person must irradiate joy all the time in my view this state of constant life enjoyment looked slightly idiotic and i kept asking myself if sadness is really so bad\n",
            "\n",
            "one of the points which i have discovered is that people very seldom differentiate between sadness and misery and mistake one feeling for the other although they are very different in nature misery can only be caused by some deeply traumatic experience however sadness in a natural middle between being extremely happy and feeling deep sorrow\n",
            "\n",
            "another important issue is that sadness often accompanies the process of thinking consideration and evaluation if for example you once watch the facial expression of a person who is writing something deep in thought you will see that heshe looks sad\n",
            "\n",
            "furthermore sadness is absolutely natural almost all our important events in life are colored with it we feel it when we have to leave a place where we felt good we experience it when we are happy because deep down we all know it will not last forever when parents see their children getting married they are happy but at the same time they are sad because their kids have grown up\n",
            "\n",
            "so sadness is positive next time you wake up in the morning and realize you feel sad do not get upset it only means you are normal and experience the whole range of emotions\n"
          ]
        }
      ]
    },
    {
      "cell_type": "markdown",
      "source": [
        "                        # 2. Tokenization and Removing the Stop words"
      ],
      "metadata": {
        "id": "ntVAnCJqVjCL"
      }
    },
    {
      "cell_type": "code",
      "source": [
        "token=res.split()\n",
        "print(token)"
      ],
      "metadata": {
        "colab": {
          "base_uri": "https://localhost:8080/"
        },
        "id": "3CKyNHR9Vfq-",
        "outputId": "f78b5a54-04e3-4d62-f322-9ebe6c577a26"
      },
      "execution_count": 58,
      "outputs": [
        {
          "output_type": "stream",
          "name": "stdout",
          "text": [
            "['as', 'early', 'as', 'i', 'could', 'remember', 'myself', 'my', 'memories', 'have', 'been', 'colored', 'with', 'melancholy', 'and', 'sad', 'feelings', 'yes', 'i', 'admit', 'it', 'i', 'am', 'a', 'person', 'who', 'loves', 'being', 'sad', 'as', 'a', 'child', 'i', 'loved', 'gloomy', 'fairy', 'tales', 'as', 'a', 'teenager', 'i', 'loved', 'tragic', 'novels', 'and', 'films', 'which', 'made', 'my', 'parents', 'worry', 'a', 'lot', 'i', 'realized', 'that', 'i', 'did', 'not', 'meet', 'their', 'expectations', 'in', 'their', 'ideal', 'world', 'a', 'happy', 'person', 'must', 'irradiate', 'joy', 'all', 'the', 'time', 'in', 'my', 'view', 'this', 'state', 'of', 'constant', 'life', 'enjoyment', 'looked', 'slightly', 'idiotic', 'and', 'i', 'kept', 'asking', 'myself', 'if', 'sadness', 'is', 'really', 'so', 'bad', 'one', 'of', 'the', 'points', 'which', 'i', 'have', 'discovered', 'is', 'that', 'people', 'very', 'seldom', 'differentiate', 'between', 'sadness', 'and', 'misery', 'and', 'mistake', 'one', 'feeling', 'for', 'the', 'other', 'although', 'they', 'are', 'very', 'different', 'in', 'nature', 'misery', 'can', 'only', 'be', 'caused', 'by', 'some', 'deeply', 'traumatic', 'experience', 'however', 'sadness', 'in', 'a', 'natural', 'middle', 'between', 'being', 'extremely', 'happy', 'and', 'feeling', 'deep', 'sorrow', 'another', 'important', 'issue', 'is', 'that', 'sadness', 'often', 'accompanies', 'the', 'process', 'of', 'thinking', 'consideration', 'and', 'evaluation', 'if', 'for', 'example', 'you', 'once', 'watch', 'the', 'facial', 'expression', 'of', 'a', 'person', 'who', 'is', 'writing', 'something', 'deep', 'in', 'thought', 'you', 'will', 'see', 'that', 'heshe', 'looks', 'sad', 'furthermore', 'sadness', 'is', 'absolutely', 'natural', 'almost', 'all', 'our', 'important', 'events', 'in', 'life', 'are', 'colored', 'with', 'it', 'we', 'feel', 'it', 'when', 'we', 'have', 'to', 'leave', 'a', 'place', 'where', 'we', 'felt', 'good', 'we', 'experience', 'it', 'when', 'we', 'are', 'happy', 'because', 'deep', 'down', 'we', 'all', 'know', 'it', 'will', 'not', 'last', 'forever', 'when', 'parents', 'see', 'their', 'children', 'getting', 'married', 'they', 'are', 'happy', 'but', 'at', 'the', 'same', 'time', 'they', 'are', 'sad', 'because', 'their', 'kids', 'have', 'grown', 'up', 'so', 'sadness', 'is', 'positive', 'next', 'time', 'you', 'wake', 'up', 'in', 'the', 'morning', 'and', 'realize', 'you', 'feel', 'sad', 'do', 'not', 'get', 'upset', 'it', 'only', 'means', 'you', 'are', 'normal', 'and', 'experience', 'the', 'whole', 'range', 'of', 'emotions']\n"
          ]
        }
      ]
    },
    {
      "cell_type": "code",
      "source": [
        "import nltk\n",
        "nltk.download('stopwords')\n",
        "from nltk.corpus import stopwords\n",
        "\n",
        "stop_words = list(stopwords.words('english'))\n",
        "\n",
        "print(stop_words)"
      ],
      "metadata": {
        "colab": {
          "base_uri": "https://localhost:8080/"
        },
        "id": "jU4amKtRVqBe",
        "outputId": "4a74c14c-5235-4e5e-c923-4819da8924b3"
      },
      "execution_count": 59,
      "outputs": [
        {
          "output_type": "stream",
          "name": "stdout",
          "text": [
            "['i', 'me', 'my', 'myself', 'we', 'our', 'ours', 'ourselves', 'you', \"you're\", \"you've\", \"you'll\", \"you'd\", 'your', 'yours', 'yourself', 'yourselves', 'he', 'him', 'his', 'himself', 'she', \"she's\", 'her', 'hers', 'herself', 'it', \"it's\", 'its', 'itself', 'they', 'them', 'their', 'theirs', 'themselves', 'what', 'which', 'who', 'whom', 'this', 'that', \"that'll\", 'these', 'those', 'am', 'is', 'are', 'was', 'were', 'be', 'been', 'being', 'have', 'has', 'had', 'having', 'do', 'does', 'did', 'doing', 'a', 'an', 'the', 'and', 'but', 'if', 'or', 'because', 'as', 'until', 'while', 'of', 'at', 'by', 'for', 'with', 'about', 'against', 'between', 'into', 'through', 'during', 'before', 'after', 'above', 'below', 'to', 'from', 'up', 'down', 'in', 'out', 'on', 'off', 'over', 'under', 'again', 'further', 'then', 'once', 'here', 'there', 'when', 'where', 'why', 'how', 'all', 'any', 'both', 'each', 'few', 'more', 'most', 'other', 'some', 'such', 'no', 'nor', 'not', 'only', 'own', 'same', 'so', 'than', 'too', 'very', 's', 't', 'can', 'will', 'just', 'don', \"don't\", 'should', \"should've\", 'now', 'd', 'll', 'm', 'o', 're', 've', 'y', 'ain', 'aren', \"aren't\", 'couldn', \"couldn't\", 'didn', \"didn't\", 'doesn', \"doesn't\", 'hadn', \"hadn't\", 'hasn', \"hasn't\", 'haven', \"haven't\", 'isn', \"isn't\", 'ma', 'mightn', \"mightn't\", 'mustn', \"mustn't\", 'needn', \"needn't\", 'shan', \"shan't\", 'shouldn', \"shouldn't\", 'wasn', \"wasn't\", 'weren', \"weren't\", 'won', \"won't\", 'wouldn', \"wouldn't\"]\n"
          ]
        },
        {
          "output_type": "stream",
          "name": "stderr",
          "text": [
            "[nltk_data] Downloading package stopwords to /root/nltk_data...\n",
            "[nltk_data]   Package stopwords is already up-to-date!\n"
          ]
        }
      ]
    },
    {
      "cell_type": "code",
      "source": [
        "final_words=[]\n",
        "for i in token:\n",
        "    if i not in stop_words:\n",
        "        final_words.append(i)\n",
        "print(final_words)"
      ],
      "metadata": {
        "colab": {
          "base_uri": "https://localhost:8080/"
        },
        "id": "lyQpUmlUVtKs",
        "outputId": "fbb44c38-a40f-44b0-dfbe-9558f7205e0e"
      },
      "execution_count": 60,
      "outputs": [
        {
          "output_type": "stream",
          "name": "stdout",
          "text": [
            "['early', 'could', 'remember', 'memories', 'colored', 'melancholy', 'sad', 'feelings', 'yes', 'admit', 'person', 'loves', 'sad', 'child', 'loved', 'gloomy', 'fairy', 'tales', 'teenager', 'loved', 'tragic', 'novels', 'films', 'made', 'parents', 'worry', 'lot', 'realized', 'meet', 'expectations', 'ideal', 'world', 'happy', 'person', 'must', 'irradiate', 'joy', 'time', 'view', 'state', 'constant', 'life', 'enjoyment', 'looked', 'slightly', 'idiotic', 'kept', 'asking', 'sadness', 'really', 'bad', 'one', 'points', 'discovered', 'people', 'seldom', 'differentiate', 'sadness', 'misery', 'mistake', 'one', 'feeling', 'although', 'different', 'nature', 'misery', 'caused', 'deeply', 'traumatic', 'experience', 'however', 'sadness', 'natural', 'middle', 'extremely', 'happy', 'feeling', 'deep', 'sorrow', 'another', 'important', 'issue', 'sadness', 'often', 'accompanies', 'process', 'thinking', 'consideration', 'evaluation', 'example', 'watch', 'facial', 'expression', 'person', 'writing', 'something', 'deep', 'thought', 'see', 'heshe', 'looks', 'sad', 'furthermore', 'sadness', 'absolutely', 'natural', 'almost', 'important', 'events', 'life', 'colored', 'feel', 'leave', 'place', 'felt', 'good', 'experience', 'happy', 'deep', 'know', 'last', 'forever', 'parents', 'see', 'children', 'getting', 'married', 'happy', 'time', 'sad', 'kids', 'grown', 'sadness', 'positive', 'next', 'time', 'wake', 'morning', 'realize', 'feel', 'sad', 'get', 'upset', 'means', 'normal', 'experience', 'whole', 'range', 'emotions']\n"
          ]
        }
      ]
    },
    {
      "cell_type": "markdown",
      "source": [
        "                          # 3. Algorithm for Emotion and Text Analysis\n",
        "                          # 1. Open and Read the emotion file"
      ],
      "metadata": {
        "id": "LgQ6Dt6hV0Ds"
      }
    },
    {
      "cell_type": "code",
      "source": [
        "emotions_list=[]\n",
        "with open ('/content/emotions.txt','r') as file:\n",
        "    for j in file:\n",
        "        clear_line=j.replace(\"\\n\",'').replace(',','').replace(\"'\",'').strip()\n",
        "        word,emotion=clear_line.split(':')\n",
        "        # print(clear_line)\n",
        "        # print(word)\n",
        "        if word in final_words:\n",
        "          emotions_list.append(emotion)\n",
        "print(emotions_list)\n"
      ],
      "metadata": {
        "colab": {
          "base_uri": "https://localhost:8080/"
        },
        "id": "hxkv7EDcV2xW",
        "outputId": "16717add-4b6f-458c-99ab-4b90b2433106"
      },
      "execution_count": 61,
      "outputs": [
        {
          "output_type": "stream",
          "name": "stdout",
          "text": [
            "[' sad', ' happy', ' happy', ' attached', ' sad', ' sad', ' sad', ' fearful', ' loved']\n"
          ]
        }
      ]
    },
    {
      "cell_type": "markdown",
      "source": [
        "                                                #4.Counting Emotions"
      ],
      "metadata": {
        "id": "3VgFz3flXn3p"
      }
    },
    {
      "cell_type": "code",
      "source": [
        "from collections import Counter\n",
        "counts=Counter(emotions_list)\n",
        "print(counts)"
      ],
      "metadata": {
        "colab": {
          "base_uri": "https://localhost:8080/"
        },
        "id": "mqbmXjA2XuNj",
        "outputId": "b3940236-87b8-44d3-98dc-58a6ffcdfcd3"
      },
      "execution_count": 62,
      "outputs": [
        {
          "output_type": "stream",
          "name": "stdout",
          "text": [
            "Counter({' sad': 4, ' happy': 2, ' attached': 1, ' fearful': 1, ' loved': 1})\n"
          ]
        }
      ]
    },
    {
      "cell_type": "markdown",
      "source": [
        "                                #5. Emotions in a Graph using Matplotlib"
      ],
      "metadata": {
        "id": "Q3iotAImaOrL"
      }
    },
    {
      "cell_type": "code",
      "source": [
        "import matplotlib.pyplot as plt\n"
      ],
      "metadata": {
        "id": "TUbJRt7CaUNW"
      },
      "execution_count": 63,
      "outputs": []
    },
    {
      "cell_type": "code",
      "source": [
        "plt.bar(counts.keys(),counts.values())\n",
        "plt.show()"
      ],
      "metadata": {
        "colab": {
          "base_uri": "https://localhost:8080/",
          "height": 430
        },
        "id": "UpBQHsCLajlS",
        "outputId": "4db9e9a0-55be-4f06-be05-9e7cbf52cbd8"
      },
      "execution_count": 64,
      "outputs": [
        {
          "output_type": "display_data",
          "data": {
            "text/plain": [
              "<Figure size 640x480 with 1 Axes>"
            ],
            "image/png": "[encoded data removed]"
          },
          "metadata": {}
        }
      ]
    }
  ]
}